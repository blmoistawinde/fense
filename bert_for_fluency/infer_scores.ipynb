{
 "cells": [
  {
   "cell_type": "code",
   "execution_count": 1,
   "source": [
    "import os\n",
    "os.environ[\"CUDA_VISIBLE_DEVICES\"] = \"3\"\n",
    "import numpy as np\n",
    "import pandas as pd\n",
    "import matplotlib.pyplot as plt\n",
    "from tqdm import tqdm\n",
    "from torch import nn, optim\n",
    "from transformers import AutoTokenizer\n",
    "import pytorch_lightning as pl\n",
    "from pytorch_lightning import seed_everything\n",
    "from pytorch_lightning.callbacks.early_stopping import EarlyStopping\n",
    "from collections import defaultdict, Counter\n",
    "from model import Classifier\n",
    "from data import infer_preprocess\n",
    "import torch"
   ],
   "outputs": [
    {
     "output_type": "stream",
     "name": "stderr",
     "text": [
      "/home/zelin/.conda/envs/py37-torch/lib/python3.7/site-packages/torchaudio/backend/utils.py:54: UserWarning: \"sox\" backend is being deprecated. The default backend will be changed to \"sox_io\" backend in 0.8.0 and \"sox\" backend will be removed in 0.9.0. Please migrate to \"sox_io\" backend. Please refer to https://github.com/pytorch/audio/issues/903 for the detail.\n",
      "  '\"sox\" backend is being deprecated. '\n"
     ]
    }
   ],
   "metadata": {}
  },
  {
   "cell_type": "code",
   "execution_count": 2,
   "source": [
    "clf = Classifier.load_from_checkpoint(\n",
    "    'xxx/lightning_logs/version_7/checkpoints/epoch=2-step=2750.ckpt'\n",
    ")\n",
    "clf.eval()\n",
    "tokenizer = AutoTokenizer.from_pretrained(clf.model_type)\n",
    "max_len = clf.hparams.max_len\n",
    "clf.cuda()\n",
    "None"
   ],
   "outputs": [
    {
     "output_type": "stream",
     "name": "stderr",
     "text": [
      "Some weights of the model checkpoint at bert-base-uncased were not used when initializing BertModel: ['cls.seq_relationship.weight', 'cls.predictions.transform.LayerNorm.weight', 'cls.predictions.transform.dense.bias', 'cls.seq_relationship.bias', 'cls.predictions.decoder.weight', 'cls.predictions.transform.LayerNorm.bias', 'cls.predictions.bias', 'cls.predictions.transform.dense.weight']\n",
      "- This IS expected if you are initializing BertModel from the checkpoint of a model trained on another task or with another architecture (e.g. initializing a BertForSequenceClassification model from a BertForPreTraining model).\n",
      "- This IS NOT expected if you are initializing BertModel from the checkpoint of a model that you expect to be exactly identical (initializing a BertForSequenceClassification model from a BertForSequenceClassification model).\n"
     ]
    },
    {
     "output_type": "stream",
     "name": "stdout",
     "text": [
      "\"accumulation\":      1\n",
      "\"bs\":                128\n",
      "\"find_lr\":           False\n",
      "\"gradient_clip_val\": 0.1\n",
      "\"input_dir\":         ./dataset_v3_combine\n",
      "\"lr\":                0.0001\n",
      "\"max_len\":           64\n",
      "\"model_type\":        bert-base-uncased\n",
      "\"num_classes\":       6\n",
      "\"patience\":          4\n",
      "\"threshold\":         0.5\n"
     ]
    }
   ],
   "metadata": {}
  },
  {
   "cell_type": "markdown",
   "source": [
    "# AudioCaps"
   ],
   "metadata": {}
  },
  {
   "cell_type": "code",
   "execution_count": null,
   "source": [
    "all_preds_text0 = np.load('../experiment/cache/total_preds_audiocaps0.npy').tolist()\n",
    "all_preds_text1 = np.load('../experiment/cache/total_preds_audiocaps1.npy').tolist()"
   ],
   "outputs": [],
   "metadata": {}
  },
  {
   "cell_type": "code",
   "execution_count": 9,
   "source": [
    "batch = infer_preprocess(tokenizer, all_preds_text0, max_len)\n",
    "for k, v in batch.items():\n",
    "    batch[k] = v.cuda()\n",
    "with torch.no_grad():\n",
    "    logits = clf(batch)\n",
    "    probs0 = torch.sigmoid(logits).detach().cpu().numpy()"
   ],
   "outputs": [],
   "metadata": {}
  },
  {
   "cell_type": "code",
   "execution_count": 10,
   "source": [
    "batch = infer_preprocess(tokenizer, all_preds_text1, max_len)\n",
    "for k, v in batch.items():\n",
    "    batch[k] = v.cuda()\n",
    "with torch.no_grad():\n",
    "    logits = clf(batch)\n",
    "    probs1 = torch.sigmoid(logits).detach().cpu().numpy()"
   ],
   "outputs": [],
   "metadata": {}
  },
  {
   "cell_type": "code",
   "execution_count": 11,
   "source": [
    "np.save('cache/probs0_alltrain_audiocaps0.npy', probs0)\n",
    "np.save('cache/probs1_alltrain_audiocaps1.npy', probs1)"
   ],
   "outputs": [],
   "metadata": {}
  },
  {
   "cell_type": "code",
   "execution_count": 12,
   "source": [
    "probs1.shape"
   ],
   "outputs": [
    {
     "output_type": "execute_result",
     "data": {
      "text/plain": [
       "(1671, 6)"
      ]
     },
     "metadata": {},
     "execution_count": 12
    }
   ],
   "metadata": {}
  },
  {
   "cell_type": "markdown",
   "source": [
    "# Clotho"
   ],
   "metadata": {}
  },
  {
   "cell_type": "code",
   "execution_count": null,
   "source": [
    "all_preds_text0 = np.load('../experiment/cache/total_preds_clotho0.npy').tolist()\n",
    "all_preds_text1 = np.load('../experiment/cache/total_preds_clotho1.npy').tolist()"
   ],
   "outputs": [],
   "metadata": {}
  },
  {
   "cell_type": "code",
   "execution_count": 5,
   "source": [
    "batch = infer_preprocess(tokenizer, all_preds_text0, max_len)\n",
    "for k, v in batch.items():\n",
    "    batch[k] = v.cuda()\n",
    "with torch.no_grad():\n",
    "    logits = clf(batch)\n",
    "    probs0 = torch.sigmoid(logits).detach().cpu().numpy()"
   ],
   "outputs": [],
   "metadata": {}
  },
  {
   "cell_type": "code",
   "execution_count": 6,
   "source": [
    "batch = infer_preprocess(tokenizer, all_preds_text1, max_len)\n",
    "for k, v in batch.items():\n",
    "    batch[k] = v.cuda()\n",
    "with torch.no_grad():\n",
    "    logits = clf(batch)\n",
    "    probs1 = torch.sigmoid(logits).detach().cpu().numpy()"
   ],
   "outputs": [],
   "metadata": {}
  },
  {
   "cell_type": "code",
   "execution_count": 7,
   "source": [
    "np.save('cache/probs0_alltrain_clotho.npy', probs0)\n",
    "np.save('cache/probs1_alltrain_clotho.npy', probs1)"
   ],
   "outputs": [],
   "metadata": {}
  }
 ],
 "metadata": {
  "orig_nbformat": 4,
  "language_info": {
   "name": "python",
   "version": "3.7.9",
   "mimetype": "text/x-python",
   "codemirror_mode": {
    "name": "ipython",
    "version": 3
   },
   "pygments_lexer": "ipython3",
   "nbconvert_exporter": "python",
   "file_extension": ".py"
  },
  "kernelspec": {
   "name": "python3",
   "display_name": "Python 3.7.9 64-bit ('py37-torch': conda)"
  },
  "interpreter": {
   "hash": "2caf8df41e3f7eb19d312af0cea77ad27c0393032b2cf462234d3c2ea49eac5f"
  }
 },
 "nbformat": 4,
 "nbformat_minor": 2
}